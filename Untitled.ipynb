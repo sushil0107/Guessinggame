{
 "cells": [
  {
   "cell_type": "code",
   "execution_count": null,
   "metadata": {},
   "outputs": [
    {
     "name": "stdout",
     "output_type": "stream",
     "text": [
      "Enter a number 1 and 100 100\n",
      "cold\n",
      "Enter a number 1 and 100 20\n",
      "warmer\n",
      "Enter a number 1 and 100 50\n",
      "warmer\n"
     ]
    }
   ],
   "source": [
    "from random import randint\n",
    "num = randint(0,100)\n",
    "guesses = [0]\n",
    "while True:\n",
    "    guess = int(input(\"Enter a number 1 and 100 \"))\n",
    "    if(guess < 0  or guess >100):\n",
    "        print('OUT OF BOUNDS')\n",
    "        continue\n",
    "    if(num == guess):\n",
    "        print(f'Voila you guess the correct number in {len(guesses)}')\n",
    "        print(guesses)\n",
    "        break\n",
    "    guesses.append(guess)\n",
    "    if guesses[-2]:\n",
    "        if abs(num - guess) < abs(num - guesses[-2]) :\n",
    "            print('warmer')\n",
    "        else:\n",
    "            print('colder')\n",
    "    else:\n",
    "        if guess - 10 < num < guess +10:\n",
    "            print('warm')\n",
    "        else:\n",
    "            print('cold')"
   ]
  },
  {
   "cell_type": "code",
   "execution_count": null,
   "metadata": {},
   "outputs": [],
   "source": []
  }
 ],
 "metadata": {
  "kernelspec": {
   "display_name": "Python 3",
   "language": "python",
   "name": "python3"
  },
  "language_info": {
   "codemirror_mode": {
    "name": "ipython",
    "version": 3
   },
   "file_extension": ".py",
   "mimetype": "text/x-python",
   "name": "python",
   "nbconvert_exporter": "python",
   "pygments_lexer": "ipython3",
   "version": "3.6.5"
  }
 },
 "nbformat": 4,
 "nbformat_minor": 2
}
